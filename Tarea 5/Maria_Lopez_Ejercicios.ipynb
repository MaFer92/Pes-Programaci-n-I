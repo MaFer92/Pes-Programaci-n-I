{
 "cells": [
  {
   "cell_type": "markdown",
   "metadata": {},
   "source": [
    "## EJERCICIOS DE CLASE"
   ]
  },
  {
   "cell_type": "code",
   "execution_count": 32,
   "metadata": {},
   "outputs": [],
   "source": [
    "class Mensaje(object):\n",
    "    textoEncriptado =\"\"\n",
    "    textoDesencriptado = \"\"\n",
    "    def __init__(self, msg, rot=3):\n",
    "        self.msg = msg\n",
    "        self.rot = rot\n",
    "        \n",
    "    def encriptar(self):\n",
    "        for pos in range(len(self.msg)):\n",
    "            asciiChar=ord(self.msg[pos])\n",
    "            asciiChar += self.rot\n",
    "            self.textoEncriptado += chr(asciiChar) \n",
    "            \n",
    "    def desencriptar(self):\n",
    "        for i in range(len(self.textoEncriptado)):\n",
    "            ascciiChar2 = ord(self.textoEncriptado[i])\n",
    "            ascciiChar2 -= self.rot\n",
    "            self.textoDesencriptado +=chr(ascciiChar2)\n",
    "            \n",
    "    def __str__(self):\n",
    "        #return \"Encriptado: \"+str(self.textoEncriptado)\n",
    "        return \"Encriptado: \" +self.textoEncriptado+\" Desencriptado: \"+self.textoDesencriptado  \n",
    "     "
   ]
  },
  {
   "cell_type": "code",
   "execution_count": 26,
   "metadata": {},
   "outputs": [
    {
     "name": "stdout",
     "output_type": "stream",
     "text": [
      "Encriptado: Krod/#vr|#Glhjr Desencriptado: Hola, soy Diego\n"
     ]
    }
   ],
   "source": [
    "mensaje = Mensaje(\"Hola, soy Diego\")\n",
    "mensaje.encriptar()\n",
    "mensaje.desencriptar()\n",
    "print(mensaje)"
   ]
  },
  {
   "cell_type": "code",
   "execution_count": 15,
   "metadata": {},
   "outputs": [],
   "source": [
    "class Canasta(object):\n",
    "    \n",
    "    def __init__(self,cerveza, ocio, ceviche):\n",
    "        self.cerveza = cerveza\n",
    "        self.ocio = ocio\n",
    "        self.ceviche = ceviche\n",
    "       \n",
    "    \n",
    "    def __eq__(self, other):\n",
    "        \n",
    "        utilidadself = (self.cerveza**0.3)*(self.ocio**0.6)*(self.ceviche**0.1)\n",
    "        utilidadother=(other.cerveza**0.3)*(other.ocio**0.6)*(other.ceviche**0.1)\n",
    "        \n",
    "        if (utilidadself == utilidadother):\n",
    "            \n",
    "            return True\n",
    "        else:\n",
    "            return False\n",
    "        \n",
    "        \n",
    "    def __lt__(self, other):\n",
    "           \n",
    "        utilidadself = (self.cerveza**0.3)*(self.ocio**0.6)*(self.ceviche**0.1)\n",
    "        utilidadother=(other.cerveza**0.3)*(other.ocio**0.6)*(other.ceviche**0.1)\n",
    "        \n",
    "        if (utilidadself < utilidadother):\n",
    "            \n",
    "            return False\n",
    "        else:\n",
    "            return True\n",
    "      "
   ]
  },
  {
   "cell_type": "code",
   "execution_count": 30,
   "metadata": {},
   "outputs": [
    {
     "name": "stdout",
     "output_type": "stream",
     "text": [
      "True\n"
     ]
    }
   ],
   "source": [
    "canasta1 =Canasta(10,15,4)\n",
    "canasta2 = Canasta(10,15,4)\n",
    "print(canasta1 == canasta2)\n"
   ]
  },
  {
   "cell_type": "code",
   "execution_count": 31,
   "metadata": {},
   "outputs": [
    {
     "name": "stdout",
     "output_type": "stream",
     "text": [
      "False\n"
     ]
    }
   ],
   "source": [
    "canasta1 =Canasta(5,15,4)\n",
    "canasta2 = Canasta(10,15,4)\n",
    "print(canasta1<canasta2)"
   ]
  }
 ],
 "metadata": {
  "kernelspec": {
   "display_name": "Python 3",
   "language": "python",
   "name": "python3"
  },
  "language_info": {
   "codemirror_mode": {
    "name": "ipython",
    "version": 3
   },
   "file_extension": ".py",
   "mimetype": "text/x-python",
   "name": "python",
   "nbconvert_exporter": "python",
   "pygments_lexer": "ipython3",
   "version": "3.7.4"
  }
 },
 "nbformat": 4,
 "nbformat_minor": 2
}
