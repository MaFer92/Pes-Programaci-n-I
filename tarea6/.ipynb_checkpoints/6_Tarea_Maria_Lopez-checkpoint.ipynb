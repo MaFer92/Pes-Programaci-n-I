{
 "cells": [
  {
   "cell_type": "markdown",
   "metadata": {},
   "source": [
    "## Clase `Dice`\n",
    "\n",
    "Implementar una clase denominada `Dice`, que funcione como un conjunto de $n$ dados. La clase debe recibir como argumento el número de dados a tirar. Además, la clase debe implementar:\n",
    "\n",
    "- Un método de `roll()` que simula la tirada de los $n$ dados y guarda internamente una lista con los valores resultantes. No devuelve nada.\n",
    "    \n",
    "    - Si no se ha llamado a `roll()`, la lista interna debe ser vacía.\n",
    "\n",
    "- Un método `getLastRoll()` que devuelve la lista con los valores de la última tirada.\n",
    "\n",
    "- Un método `getRollSum()` que devuelve la suma de los valores de la última tirada.\n",
    "\n",
    "    - Si no se ha llamado a `roll()`, debe devolver cero."
   ]
  },
  {
   "cell_type": "code",
   "execution_count": 124,
   "metadata": {},
   "outputs": [
    {
     "data": {
      "text/plain": [
       "2"
      ]
     },
     "execution_count": 124,
     "metadata": {},
     "output_type": "execute_result"
    }
   ],
   "source": [
    "# Ayuda, utilizar la siguiente función del módulo random\n",
    "import random\n",
    "random.randint(1,6)"
   ]
  },
  {
   "cell_type": "code",
   "execution_count": 392,
   "metadata": {},
   "outputs": [],
   "source": [
    "import random\n",
    "#random.randint(1,6)\n",
    "\n",
    "class Dice(object):\n",
    "    \n",
    "    def __init__(self, n):\n",
    "        self.n = n #numero de dados\n",
    "        self.Tiradas = [] # lista vacia donde se guardaran el resultado de los tiros\n",
    "        \n",
    "    def roll(self):\n",
    "        \n",
    "        self.Tiradas = [] #por cada tiro se debe de limpiar la lista, ya que debe contener la última tirada. \n",
    "        \n",
    "        for p in range(self.n): #el for efectua la tirada por dado\n",
    "            x = random.randint(1,6) #da un número entero aleatorio\n",
    "            self.Tiradas.append(x) #va agregando el valor del tiro de cada dado en la lista\n",
    "        return self.Tiradas\n",
    "        \n",
    "    def getLastRoll(self):\n",
    "        \n",
    "            return self.Tiradas #retorna la lista, ya sea vacia o llena\n",
    "            \n",
    "    def getRollSum(self):\n",
    "        \n",
    "        return sum(self.Tiradas) #suma los elementos de la lista\n",
    "        \n",
    "        \n",
    "    "
   ]
  },
  {
   "cell_type": "code",
   "execution_count": 395,
   "metadata": {},
   "outputs": [
    {
     "data": {
      "text/plain": [
       "[]"
      ]
     },
     "execution_count": 395,
     "metadata": {},
     "output_type": "execute_result"
    }
   ],
   "source": [
    "a = Dice(2)\n",
    "a.getLastRoll()\n",
    "# Devuelve lista vacía"
   ]
  },
  {
   "cell_type": "code",
   "execution_count": 398,
   "metadata": {},
   "outputs": [
    {
     "data": {
      "text/plain": [
       "0"
      ]
     },
     "execution_count": 398,
     "metadata": {},
     "output_type": "execute_result"
    }
   ],
   "source": [
    "a.getRollSum()\n",
    "# Devuelve 0"
   ]
  },
  {
   "cell_type": "code",
   "execution_count": 400,
   "metadata": {},
   "outputs": [
    {
     "data": {
      "text/plain": [
       "[3, 6]"
      ]
     },
     "execution_count": 400,
     "metadata": {},
     "output_type": "execute_result"
    }
   ],
   "source": [
    "a.roll()"
   ]
  },
  {
   "cell_type": "code",
   "execution_count": 401,
   "metadata": {},
   "outputs": [
    {
     "data": {
      "text/plain": [
       "[3, 6]"
      ]
     },
     "execution_count": 401,
     "metadata": {},
     "output_type": "execute_result"
    }
   ],
   "source": [
    "a.getLastRoll()\n",
    "# Devuelve lista con dos números"
   ]
  },
  {
   "cell_type": "code",
   "execution_count": 403,
   "metadata": {},
   "outputs": [
    {
     "data": {
      "text/plain": [
       "[4, 2]"
      ]
     },
     "execution_count": 403,
     "metadata": {},
     "output_type": "execute_result"
    }
   ],
   "source": [
    "a.roll()\n",
    "a.getLastRoll()\n",
    "# Devuelve lista con dos números"
   ]
  },
  {
   "cell_type": "code",
   "execution_count": 404,
   "metadata": {},
   "outputs": [
    {
     "data": {
      "text/plain": [
       "6"
      ]
     },
     "execution_count": 404,
     "metadata": {},
     "output_type": "execute_result"
    }
   ],
   "source": [
    "a.getRollSum()\n",
    "# Devuelve la suma de los números de la lista anterior"
   ]
  },
  {
   "cell_type": "markdown",
   "metadata": {},
   "source": [
    "## Herencia de la clase `Rectangle`"
   ]
  },
  {
   "cell_type": "code",
   "execution_count": 407,
   "metadata": {},
   "outputs": [],
   "source": [
    "class Rectangle(object):\n",
    "    def __init__(self, length, width):\n",
    "        self.length = length\n",
    "        self.width = width\n",
    "        \n",
    "    def area(self):\n",
    "        return self.width * self.length\n",
    "    \n",
    "    def perimeter(self):\n",
    "        return (2*self.length) + (2*self.width)\n",
    "    \n",
    "class Square(Rectangle):\n",
    "    '''\n",
    "        Redefinir el método constructor, sin redefinir las funciones de área\n",
    "        y perímetro, para que un objeto de tipo Square con:\n",
    "            .area() devuelva el área de un cuadrado de tamaño length y\n",
    "            .perimeter() devuelva el perímetro del cuadrado\n",
    "    '''\n",
    "    def __init__(self, length):\n",
    "        \n",
    "        Rectangle.__init__(self, length, length) #se redefine la función constructor. \n",
    "         \n",
    "class Cube(Square):\n",
    "    \n",
    "    '''\n",
    "        Heredar de Square todos los métodos (incluido el constructor) y \n",
    "        agregar un método para obtener el volumen de un objeto de tipo Cube.\n",
    "    '''\n",
    "    def volume(self):\n",
    "        \n",
    "        return self.length**3 #retorna el cubo del dato\n",
    "        \n",
    "        "
   ]
  },
  {
   "cell_type": "code",
   "execution_count": 408,
   "metadata": {},
   "outputs": [
    {
     "data": {
      "text/plain": [
       "6"
      ]
     },
     "execution_count": 408,
     "metadata": {},
     "output_type": "execute_result"
    }
   ],
   "source": [
    "a = Rectangle(2,3)\n",
    "a.area()"
   ]
  },
  {
   "cell_type": "code",
   "execution_count": 409,
   "metadata": {},
   "outputs": [
    {
     "data": {
      "text/plain": [
       "10"
      ]
     },
     "execution_count": 409,
     "metadata": {},
     "output_type": "execute_result"
    }
   ],
   "source": [
    "a.perimeter()"
   ]
  },
  {
   "cell_type": "code",
   "execution_count": 410,
   "metadata": {},
   "outputs": [
    {
     "data": {
      "text/plain": [
       "9"
      ]
     },
     "execution_count": 410,
     "metadata": {},
     "output_type": "execute_result"
    }
   ],
   "source": [
    "c = Square(3)\n",
    "c.area()"
   ]
  },
  {
   "cell_type": "code",
   "execution_count": 411,
   "metadata": {},
   "outputs": [
    {
     "data": {
      "text/plain": [
       "12"
      ]
     },
     "execution_count": 411,
     "metadata": {},
     "output_type": "execute_result"
    }
   ],
   "source": [
    "c.perimeter()"
   ]
  },
  {
   "cell_type": "code",
   "execution_count": 412,
   "metadata": {},
   "outputs": [
    {
     "data": {
      "text/plain": [
       "8"
      ]
     },
     "execution_count": 412,
     "metadata": {},
     "output_type": "execute_result"
    }
   ],
   "source": [
    "d = Cube(2)\n",
    "d.volume()"
   ]
  },
  {
   "cell_type": "markdown",
   "metadata": {},
   "source": [
    "## Programando nuestro propio *Blockchain*\n",
    "\n",
    "Crear una clase denominada `Block` que almacene un diccionario con transacciones. La clase `Block` debe implementar:\n",
    "\n",
    "- Atributo de transacciones, representado con un diccionario `transactions`. Las llaves pueden ser alfanuméricas y los valores del diccionario representan los débitos ($-$) o créditos ($+$) relativas a una transacción.\n",
    "\n",
    "- Atributos `previousBlock` y `nextBlock` que apuntan a objetos tipo `Block` para referir al anterior y siguiente \"bloque\" en la cadena.\n",
    "    - Estos deben ser `None` por defecto en el constructor.\n",
    "    - Se deben programar métodos *getter* y *setter* para acceder y modificar estos atributos.\n",
    "    \n",
    "- Un método `getBlockID()` para obtener el ID de un bloque específico utilizando **variables de clase**.\n",
    "\n",
    "- Un método `getTransactions()` para obtener **una copia** del diccionario de transacciones.\n",
    "\n",
    "- La asignación consiste en completar el método `getBalanceFromHere()`, que computa el balance de las cuentas desde el bloque actual hasta el final del *blockchain*."
   ]
  },
  {
   "cell_type": "code",
   "execution_count": 75,
   "metadata": {},
   "outputs": [],
   "source": [
    "class Block:\n",
    "    \n",
    "    blockCount = 0\n",
    "    \n",
    "    # Inicializa el bloque con el diccionario de transacciones \n",
    "    def __init__(self, transactions={}, previousBlock=None, nextBlock=None):\n",
    "        self.transactions = transactions\n",
    "        self.previousBlock = None\n",
    "        self.nextBlock = None\n",
    "        self.blockID = Block.blockCount\n",
    "        Block.blockCount += 1\n",
    "        \n",
    "    # Muestra el número de instancia y sus transacciones\n",
    "    def __str__(self):\n",
    "        return \"Block %d: \" % self.blockID + str(self.transactions)\n",
    "        \n",
    "    # Obtener el ID del bloque\n",
    "    def getBlockID(self):\n",
    "        return self.blockID\n",
    "    def getTransactions(self):\n",
    "        return self.transactions.copy()\n",
    "    \n",
    "    # Getters y setters para obtener bloque anterior y siguiente\n",
    "    def setPreviousBlock(self, block):\n",
    "        self.previousBlock = block\n",
    "    def getPreviousBlock(self):\n",
    "        return self.previousBlock\n",
    "    def setNextBlock(self, block):\n",
    "        self.nextBlock = block\n",
    "        block.setPreviousBlock(self)\n",
    "    def getNextBlock(self):\n",
    "        return self.nextBlock\n",
    "    \n",
    "    ''' Completar para computar la función de \n",
    "        balance a partir de este bloque. Devuelve un \n",
    "        diccionario con las llaves y su balance acumulado\n",
    "        a partir de este bloque (incluyendo las transacciones\n",
    "        de este bloque).\n",
    "    '''\n",
    "    def getBalanceFromHere(self):\n",
    "        #print(self)\n",
    "        #print(self.getNextBlock())\n",
    "        #print(self.getPreviousBlock())\n",
    "        posicionBalance = self\n",
    "        contador=0\n",
    "        while(posicionBalance != None):\n",
    "            if contador ==0:\n",
    "                respuesta = posicionBalance\n",
    "            else:\n",
    "                for pos in posicionBalance:\n",
    "                    if(pos.key in respuesta.getTransactions):\n",
    "                        respuesta[pos].value += pos.value\n",
    "                    else:\n",
    "                        respuesta.append(pos)\n",
    "                        \n",
    "                \n",
    "            posicionBalance=posicionBalance.getPreviousBlock()\n",
    "            contador +=1\n",
    "        \n",
    "        #print(respuesta)\n",
    "        "
   ]
  },
  {
   "cell_type": "code",
   "execution_count": 76,
   "metadata": {},
   "outputs": [
    {
     "name": "stdout",
     "output_type": "stream",
     "text": [
      "Block 0: {'A': 50, 'B': -10, 'C': 5}\n",
      "Block 1: {'A': -10, 'C': 10}\n",
      "Block 2: {'B': 10, 'C': 5}\n"
     ]
    }
   ],
   "source": [
    "# Creamos algunos bloques con transacciones\n",
    "B0 = Block({'A': 50, 'B': -10, 'C': 5})\n",
    "B1 = Block({'A':-10, 'C':+10})\n",
    "B2 = Block({'B':+10, 'C':+5})\n",
    "print(B0, B1, B2, sep='\\n')"
   ]
  },
  {
   "cell_type": "code",
   "execution_count": 59,
   "metadata": {},
   "outputs": [
    {
     "name": "stdout",
     "output_type": "stream",
     "text": [
      "Block 0: {'A': 50, 'B': -10, 'C': 5}\n",
      "Block 1: {'A': -10, 'C': 10}\n"
     ]
    }
   ],
   "source": [
    "print(B0)\n",
    "print(B1)"
   ]
  },
  {
   "cell_type": "code",
   "execution_count": 77,
   "metadata": {},
   "outputs": [],
   "source": [
    "# Configuramos la cadena de bloques\n",
    "B0.setNextBlock(B1)\n",
    "B1.setNextBlock(B2)"
   ]
  },
  {
   "cell_type": "code",
   "execution_count": 46,
   "metadata": {},
   "outputs": [
    {
     "name": "stdout",
     "output_type": "stream",
     "text": [
      "Block 1: {'A': -10, 'C': 10}\n",
      "Block 2: {'B': 10, 'C': 5}\n"
     ]
    }
   ],
   "source": [
    "print(B0.getNextBlock())\n",
    "print(B1.getNextBlock())"
   ]
  },
  {
   "cell_type": "code",
   "execution_count": 6,
   "metadata": {},
   "outputs": [
    {
     "name": "stdout",
     "output_type": "stream",
     "text": [
      "Block 0: {'A': 50, 'B': -10, 'C': 5}\n",
      "Block 1: {'A': -10, 'C': 10}\n"
     ]
    }
   ],
   "source": [
    "print(B1.getPreviousBlock())\n",
    "print(B2.getPreviousBlock())"
   ]
  },
  {
   "cell_type": "code",
   "execution_count": 7,
   "metadata": {},
   "outputs": [
    {
     "name": "stdout",
     "output_type": "stream",
     "text": [
      "None\n"
     ]
    }
   ],
   "source": [
    "print(B0.getPreviousBlock())\n",
    "# Devuelve None"
   ]
  },
  {
   "cell_type": "code",
   "execution_count": 8,
   "metadata": {},
   "outputs": [
    {
     "name": "stdout",
     "output_type": "stream",
     "text": [
      "None\n"
     ]
    }
   ],
   "source": [
    "print(B2.getNextBlock())\n",
    "# Devuelve None"
   ]
  },
  {
   "cell_type": "code",
   "execution_count": 79,
   "metadata": {
    "scrolled": true
   },
   "outputs": [
    {
     "name": "stdout",
     "output_type": "stream",
     "text": [
      "A\n",
      "B\n",
      "C\n"
     ]
    }
   ],
   "source": [
    "B1.getBalanceFromHere()\n",
    "# Debe devolver {'A': -10, 'C': 15, 'B': 10}"
   ]
  },
  {
   "cell_type": "code",
   "execution_count": 35,
   "metadata": {},
   "outputs": [],
   "source": [
    "B0.getBalanceFromHere()\n",
    "# Debe devolver {'A': 40, 'B': 0, 'C': 20}"
   ]
  },
  {
   "cell_type": "code",
   "execution_count": null,
   "metadata": {},
   "outputs": [],
   "source": []
  },
  {
   "cell_type": "code",
   "execution_count": null,
   "metadata": {},
   "outputs": [],
   "source": []
  },
  {
   "cell_type": "code",
   "execution_count": null,
   "metadata": {},
   "outputs": [],
   "source": []
  },
  {
   "cell_type": "code",
   "execution_count": null,
   "metadata": {},
   "outputs": [],
   "source": []
  }
 ],
 "metadata": {
  "kernelspec": {
   "display_name": "Python 3",
   "language": "python",
   "name": "python3"
  },
  "language_info": {
   "codemirror_mode": {
    "name": "ipython",
    "version": 3
   },
   "file_extension": ".py",
   "mimetype": "text/x-python",
   "name": "python",
   "nbconvert_exporter": "python",
   "pygments_lexer": "ipython3",
   "version": "3.7.4"
  }
 },
 "nbformat": 4,
 "nbformat_minor": 2
}
